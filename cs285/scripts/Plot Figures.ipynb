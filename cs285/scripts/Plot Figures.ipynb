{
 "cells": [
  {
   "cell_type": "code",
   "execution_count": 1,
   "metadata": {},
   "outputs": [
    {
     "name": "stderr",
     "output_type": "stream",
     "text": [
      "/Users/Gabriel/.local/lib/python3.5/site-packages/tensorflow/python/framework/dtypes.py:523: FutureWarning: Passing (type, 1) or '1type' as a synonym of type is deprecated; in a future version of numpy, it will be understood as (type, (1,)) / '(1,)type'.\n",
      "  _np_qint8 = np.dtype([(\"qint8\", np.int8, 1)])\n",
      "/Users/Gabriel/.local/lib/python3.5/site-packages/tensorflow/python/framework/dtypes.py:524: FutureWarning: Passing (type, 1) or '1type' as a synonym of type is deprecated; in a future version of numpy, it will be understood as (type, (1,)) / '(1,)type'.\n",
      "  _np_quint8 = np.dtype([(\"quint8\", np.uint8, 1)])\n",
      "/Users/Gabriel/.local/lib/python3.5/site-packages/tensorflow/python/framework/dtypes.py:525: FutureWarning: Passing (type, 1) or '1type' as a synonym of type is deprecated; in a future version of numpy, it will be understood as (type, (1,)) / '(1,)type'.\n",
      "  _np_qint16 = np.dtype([(\"qint16\", np.int16, 1)])\n",
      "/Users/Gabriel/.local/lib/python3.5/site-packages/tensorflow/python/framework/dtypes.py:526: FutureWarning: Passing (type, 1) or '1type' as a synonym of type is deprecated; in a future version of numpy, it will be understood as (type, (1,)) / '(1,)type'.\n",
      "  _np_quint16 = np.dtype([(\"quint16\", np.uint16, 1)])\n",
      "/Users/Gabriel/.local/lib/python3.5/site-packages/tensorflow/python/framework/dtypes.py:527: FutureWarning: Passing (type, 1) or '1type' as a synonym of type is deprecated; in a future version of numpy, it will be understood as (type, (1,)) / '(1,)type'.\n",
      "  _np_qint32 = np.dtype([(\"qint32\", np.int32, 1)])\n",
      "/Users/Gabriel/.local/lib/python3.5/site-packages/tensorflow/python/framework/dtypes.py:532: FutureWarning: Passing (type, 1) or '1type' as a synonym of type is deprecated; in a future version of numpy, it will be understood as (type, (1,)) / '(1,)type'.\n",
      "  np_resource = np.dtype([(\"resource\", np.ubyte, 1)])\n"
     ]
    }
   ],
   "source": [
    "import tensorflow as tf\n",
    "import matplotlib.pyplot as plt\n",
    "import os\n",
    "import os.path\n",
    "\n",
    "def parse_tf_events_file(filename):\n",
    "    avg_returns = []\n",
    "    for e in tf.train.summary_iterator(filename):\n",
    "        for v in e.summary.value:\n",
    "            if v.tag == 'Train_AverageReturn':\n",
    "                avg_returns.append(v.simple_value)\n",
    "\n",
    "    return avg_returns\n"
   ]
  },
  {
   "cell_type": "code",
   "execution_count": 24,
   "metadata": {},
   "outputs": [],
   "source": [
    "def plot(file_name, lst_avg_names_returns, horizontal_line, save=True):\n",
    "    '''\n",
    "        Params:\n",
    "        file_name: string that will be the name of the title in the plot.\n",
    "        lst_avg_returns: A list of tuples of average returns and std returns\n",
    "            [(avg_returns, name), (avg_returns, name2), ... (avg_return_of_all_lines, avg)]\n",
    "        horizontal_line: int where the horizontal line should be or None if no horizontal line should be present.\n",
    "    '''\n",
    "    assert len(lst_avg_names_returns[0]) == 2, 'lst_avg_names should contain averages, and a name'\n",
    "    plt.figure()\n",
    "    plt.title(file_name)\n",
    "    plt.xlabel('Iterations (in thousands)')\n",
    "    for i in range(len(lst_avg_names_returns)-1):\n",
    "        avg_returns = lst_avg_names_returns[i][0]\n",
    "        name = lst_avg_names_returns[i][1]\n",
    "        plt.plot(avg_returns, label=name, linestyle=':')\n",
    "\n",
    "    avg_returns, name = lst_avg_names_returns[-1]\n",
    "    plt.plot(avg_returns, label=name, color='b')    \n",
    "    plt.legend(loc='center left', bbox_to_anchor=(1, 0.5))\n",
    "    if horizontal_line is not None:\n",
    "        plt.axhline(y=horizontal_line, color='r', linestyle='-', label='Goal: {}'.format(horizontal_line))\n",
    "    if save:\n",
    "        plt.savefig(file_name + '.png', bbox_inches=\"tight\")\n",
    "    plt.show()\n",
    "\n",
    "def get_name(path, batch):\n",
    "    dirs = path.split('/')\n",
    "    if batch:\n",
    "        path_name = dirs[-3] + \"_\" + dirs[-2]\n",
    "    else:\n",
    "        path_name = dirs[-3] + \"_\" + dirs[-2].split('_')[1]\n",
    "    return path_name\n",
    "\n",
    "def average_of_all_runs(lst): \n",
    "    assert len(lst) > 0 and len(lst[0]) == 2, 'lst_avg_names should contain averages, a name'\n",
    "    import numpy as np \n",
    "    l = np.array(lst)\n",
    "    print(l.shape)\n",
    "    averages = np.array([np.array(i[0]) for i in lst])\n",
    "    return (np.average(averages, axis=0), 'Averages of All Runs')\n",
    "    \n",
    "    \n",
    "def get_data(path, batch, obj):\n",
    "    paths = []\n",
    "    for dirpath, dirnames, filenames in os.walk(path):\n",
    "        for filename in [f for f in filenames if 'events.out.tfevents' in f]:\n",
    "            if obj in dirpath:\n",
    "                paths.append(os.path.join(dirpath, filename))\n",
    "    lst_avg_names = [(parse_tf_events_file(path), get_name(path, batch)) for path in paths]\n",
    "    return lst_avg_names\n",
    "\n"
   ]
  },
  {
   "cell_type": "code",
   "execution_count": 3,
   "metadata": {},
   "outputs": [
    {
     "data": {
      "text/plain": [
       "'/Users/Gabriel/Desktop/berkeley/2019-20/semester 1/classes/cs285/homeworks/hw03/hw/hw3/cs285/scripts\\n'"
      ]
     },
     "execution_count": 3,
     "metadata": {},
     "output_type": "execute_result"
    }
   ],
   "source": [
    "open('hi.txt','r').read()"
   ]
  },
  {
   "cell_type": "code",
   "execution_count": 4,
   "metadata": {},
   "outputs": [],
   "source": [
    "path = '../data/'"
   ]
  },
  {
   "cell_type": "code",
   "execution_count": 5,
   "metadata": {},
   "outputs": [],
   "source": [
    "lst_avg_std_names = get_data(path,True, 'lunarlander-REAL')"
   ]
  },
  {
   "cell_type": "code",
   "execution_count": 6,
   "metadata": {},
   "outputs": [],
   "source": [
    "ev = os.listdir(path)[0]"
   ]
  },
  {
   "cell_type": "code",
   "execution_count": 7,
   "metadata": {
    "collapsed": true
   },
   "outputs": [
    {
     "data": {
      "text/plain": [
       "[([-175.63380432128906,\n",
       "   -136.29953002929688,\n",
       "   -114.70935821533203,\n",
       "   -113.26192474365234,\n",
       "   -110.24193572998047,\n",
       "   -89.19039916992188,\n",
       "   -76.74140167236328,\n",
       "   -79.89692687988281,\n",
       "   -91.10657501220703,\n",
       "   -76.62825775146484,\n",
       "   -59.552940368652344,\n",
       "   -44.10083770751953,\n",
       "   -17.77269744873047,\n",
       "   13.39476490020752,\n",
       "   34.201473236083984,\n",
       "   53.66668701171875,\n",
       "   92.50035858154297,\n",
       "   119.81947326660156,\n",
       "   129.91868591308594,\n",
       "   138.08853149414062,\n",
       "   140.082763671875,\n",
       "   139.4755401611328,\n",
       "   143.8298797607422,\n",
       "   150.9500274658203,\n",
       "   140.80947875976562,\n",
       "   159.29168701171875,\n",
       "   174.39215087890625,\n",
       "   193.8333282470703,\n",
       "   190.96510314941406,\n",
       "   209.10928344726562,\n",
       "   206.66514587402344,\n",
       "   204.2049560546875,\n",
       "   202.84500122070312,\n",
       "   207.20217895507812,\n",
       "   201.24317932128906,\n",
       "   191.95791625976562,\n",
       "   178.50877380371094,\n",
       "   142.38743591308594,\n",
       "   21.18877601623535,\n",
       "   9.698548316955566,\n",
       "   30.24675941467285,\n",
       "   22.752492904663086,\n",
       "   21.39580726623535,\n",
       "   -14.396326065063477,\n",
       "   -33.237667083740234,\n",
       "   -51.12886428833008,\n",
       "   -56.86341094970703,\n",
       "   -50.76426696777344,\n",
       "   -24.830381393432617],\n",
       "  'data_dqn_lunarlander-REAL_LunarLander-v2_07-10-2019_18-02-39'),\n",
       " ([-305.5018615722656,\n",
       "   -228.37843322753906,\n",
       "   -214.19703674316406,\n",
       "   -195.01608276367188,\n",
       "   -179.7828369140625,\n",
       "   -176.4927215576172,\n",
       "   -169.94236755371094,\n",
       "   -157.08702087402344,\n",
       "   -139.58786010742188,\n",
       "   -122.03010559082031,\n",
       "   -99.45805358886719,\n",
       "   -75.5372543334961,\n",
       "   -57.45915603637695,\n",
       "   -51.39920425415039,\n",
       "   -34.52734375,\n",
       "   -48.547637939453125,\n",
       "   -44.20323944091797,\n",
       "   -29.64223289489746,\n",
       "   -5.919116497039795,\n",
       "   7.965739727020264,\n",
       "   29.377553939819336,\n",
       "   53.148311614990234,\n",
       "   73.54991149902344,\n",
       "   87.31304168701172,\n",
       "   106.63838958740234,\n",
       "   129.61749267578125,\n",
       "   155.35433959960938,\n",
       "   179.0409698486328,\n",
       "   192.34176635742188,\n",
       "   203.93582153320312,\n",
       "   204.36679077148438,\n",
       "   216.35354614257812,\n",
       "   208.0604248046875,\n",
       "   202.57530212402344,\n",
       "   197.90989685058594,\n",
       "   193.59547424316406,\n",
       "   190.180419921875,\n",
       "   189.65916442871094,\n",
       "   168.06661987304688,\n",
       "   156.7017822265625,\n",
       "   106.59696960449219,\n",
       "   100.588623046875,\n",
       "   51.92573165893555,\n",
       "   2.031172752380371,\n",
       "   -30.12520408630371,\n",
       "   -42.246620178222656,\n",
       "   -50.059852600097656,\n",
       "   -34.52678298950195,\n",
       "   -75.09791564941406],\n",
       "  'data_dqn_lunarlander-REAL_LunarLander-v2_07-10-2019_18-02-49'),\n",
       " ([-416.9259033203125,\n",
       "   -347.0688171386719,\n",
       "   -318.4148254394531,\n",
       "   -293.3832702636719,\n",
       "   -214.33868408203125,\n",
       "   -164.0474853515625,\n",
       "   -156.32504272460938,\n",
       "   -153.76016235351562,\n",
       "   -149.4659881591797,\n",
       "   -145.18048095703125,\n",
       "   -139.00074768066406,\n",
       "   -128.6144561767578,\n",
       "   -121.87186431884766,\n",
       "   -109.2868423461914,\n",
       "   -98.72913360595703,\n",
       "   -85.61925506591797,\n",
       "   -73.13871765136719,\n",
       "   -52.42164993286133,\n",
       "   -22.490278244018555,\n",
       "   2.3918652534484863,\n",
       "   43.58732223510742,\n",
       "   17.95967674255371,\n",
       "   -29.425621032714844,\n",
       "   9.122405052185059,\n",
       "   48.18456268310547,\n",
       "   71.33201599121094,\n",
       "   83.52554321289062,\n",
       "   122.23157501220703,\n",
       "   146.7541961669922,\n",
       "   139.03213500976562,\n",
       "   152.28564453125,\n",
       "   165.77145385742188,\n",
       "   179.71148681640625,\n",
       "   201.7931671142578,\n",
       "   202.77467346191406,\n",
       "   184.64907836914062,\n",
       "   171.2568817138672,\n",
       "   167.814453125,\n",
       "   148.0056915283203,\n",
       "   108.34870147705078,\n",
       "   72.54820251464844,\n",
       "   89.09527587890625,\n",
       "   98.01649475097656,\n",
       "   88.20580291748047,\n",
       "   80.7086410522461,\n",
       "   79.61709594726562,\n",
       "   111.56256866455078,\n",
       "   123.08653259277344,\n",
       "   110.94115447998047],\n",
       "  'data_dqn_lunarlander-REAL_LunarLander-v2_07-10-2019_18-03-03'),\n",
       " ([-157.66648864746094,\n",
       "   -136.743408203125,\n",
       "   -130.7871551513672,\n",
       "   -123.10813903808594,\n",
       "   -128.206298828125,\n",
       "   -126.82976531982422,\n",
       "   -125.18621063232422,\n",
       "   -130.9581298828125,\n",
       "   -131.4495086669922,\n",
       "   -124.328125,\n",
       "   -104.77043914794922,\n",
       "   -95.28311920166016,\n",
       "   -81.94469451904297,\n",
       "   -67.62328338623047,\n",
       "   -56.67435836791992,\n",
       "   -23.91580581665039,\n",
       "   25.93662452697754,\n",
       "   55.11284255981445,\n",
       "   49.63779067993164,\n",
       "   43.915435791015625,\n",
       "   60.7100715637207,\n",
       "   68.12004852294922,\n",
       "   127.7410659790039,\n",
       "   92.78868865966797,\n",
       "   105.61593627929688,\n",
       "   146.8619842529297,\n",
       "   155.70196533203125,\n",
       "   157.82534790039062,\n",
       "   195.1984405517578,\n",
       "   230.9763946533203,\n",
       "   230.23043823242188,\n",
       "   221.7373046875,\n",
       "   172.4139404296875,\n",
       "   117.3685073852539,\n",
       "   78.5645980834961,\n",
       "   91.10688018798828,\n",
       "   119.98798370361328,\n",
       "   141.1644744873047,\n",
       "   155.20045471191406,\n",
       "   164.23985290527344,\n",
       "   168.4528350830078,\n",
       "   167.89859008789062,\n",
       "   146.87998962402344,\n",
       "   90.10185241699219,\n",
       "   71.44927215576172,\n",
       "   87.1928939819336,\n",
       "   89.78499603271484,\n",
       "   92.31139373779297,\n",
       "   85.53951263427734],\n",
       "  'data_dqn_lunarlander-REAL_LunarLander-v2_07-10-2019_17-37-15')]"
      ]
     },
     "execution_count": 7,
     "metadata": {},
     "output_type": "execute_result"
    }
   ],
   "source": [
    "lst_avg_std_names"
   ]
  },
  {
   "cell_type": "code",
   "execution_count": 8,
   "metadata": {},
   "outputs": [
    {
     "name": "stdout",
     "output_type": "stream",
     "text": [
      "(4, 2)\n"
     ]
    }
   ],
   "source": [
    "lst_avg_std_names.append(average_of_all_runs(lst_avg_std_names))"
   ]
  },
  {
   "cell_type": "code",
   "execution_count": 25,
   "metadata": {},
   "outputs": [
    {
     "data": {
      "image/png": "[encoded data removed]",
      "text/plain": [
       "<Figure size 432x288 with 1 Axes>"
      ]
     },
     "metadata": {
      "needs_background": "light"
     },
     "output_type": "display_data"
    }
   ],
   "source": [
    "plot('Lunar Lander', lst_avg_std_names, 150, save=True)"
   ]
  },
  {
   "cell_type": "code",
   "execution_count": null,
   "metadata": {},
   "outputs": [],
   "source": []
  }
 ],
 "metadata": {
  "kernelspec": {
   "display_name": "Python 3",
   "language": "python",
   "name": "python3"
  },
  "language_info": {
   "codemirror_mode": {
    "name": "ipython",
    "version": 3
   },
   "file_extension": ".py",
   "mimetype": "text/x-python",
   "name": "python",
   "nbconvert_exporter": "python",
   "pygments_lexer": "ipython3",
   "version": "3.5.5"
  }
 },
 "nbformat": 4,
 "nbformat_minor": 2
}
